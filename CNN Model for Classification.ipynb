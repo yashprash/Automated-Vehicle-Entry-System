{
  "nbformat": 4,
  "nbformat_minor": 0,
  "metadata": {
    "colab": {
      "name": "Classification.ipynb",
      "provenance": [],
      "collapsed_sections": []
    },
    "kernelspec": {
      "name": "python3",
      "display_name": "Python 3"
    },
    "accelerator": "GPU"
  },
  "cells": [
    {
      "cell_type": "code",
      "metadata": {
        "id": "-QgZNqczJsAI"
      },
      "source": [
        "from google.colab import drive\n",
        "drive.mount('/content/drive')\n"
      ],
      "execution_count": null,
      "outputs": []
    },
    {
      "cell_type": "code",
      "metadata": {
        "id": "hvKp4snNKJSn"
      },
      "source": [
        "import json\n",
        "import urllib.request\n",
        "import cv2\n",
        "import numpy\n",
        "import os\n",
        "import random\n",
        "import pickle\n",
        "from PIL import Image\n",
        "from sklearn import svm\n",
        "from sklearn.linear_model import LogisticRegression\n",
        "from sklearn import metrics\n",
        "from sklearn.metrics import accuracy_score\n",
        "from keras.models import Sequential\n",
        "from keras.layers import Conv2D, MaxPooling2D\n",
        "from keras.layers import Activation, Dropout, Flatten, Dense\n",
        "from sklearn.model_selection import train_test_split\n",
        "from keras.utils import to_categorical\n",
        "\n",
        "data_set=numpy.zeros((2774,28,28))\n",
        "label=numpy.zeros((2774,1))\n",
        "#data_set=[]\n",
        "#label=[]\n",
        "#for i in range(0,2774):\n",
        "  #data_set.append(0)\n",
        "  #label.append(0)\n",
        "i=0\n",
        "for filename in os.listdir(\"drive/My Drive/Colab/PositiveExamplesResized/\"):\n",
        "  try:\n",
        "    img=Image.open(\"drive/My Drive/Colab/PositiveExamplesResized/\"+filename)\n",
        "    img=img.resize((28,28))\n",
        "    img.save(\"drive/My Drive/Colab/1.jpg\")\n",
        "    img1=cv2.imread(\"drive/My Drive/Colab/1.jpg\",0)\n",
        "    data_set[i]=numpy.asarray(img1)\n",
        "  except IOError:\n",
        "    pass\n",
        "  else:\n",
        "    label[i]=1\n",
        "    i=i+1\n",
        "for filename in os.listdir(\"drive/My Drive/Colab/NegativeExamplesResized/\"):\n",
        "  try:\n",
        "    img=Image.open(\"drive/My Drive/Colab/NegativeExamplesResized/\"+filename)\n",
        "    img=img.resize((28,28))\n",
        "    img.save(\"drive/My Drive/Colab/1.jpg\")\n",
        "    img1=cv2.imread(\"drive/My Drive/Colab/1.jpg\",0)\n",
        "    data_set[i]=numpy.asarray(img1)\n",
        "  except IOError:\n",
        "    pass\n",
        "  else:\n",
        "    label[i]=0\n",
        "    i=i+1\n",
        "\n",
        "label=numpy.ravel(label)\n",
        "for j in range(100000):\n",
        "  x1=random.randint(0,len(data_set)-1)\n",
        "  x2=random.randint(0,len(data_set)-1)\n",
        "  data_set[x1],data_set[x2]=data_set[x2],data_set[x1]\n",
        "  label[x1],label[x2]=label[x2],label[x1]\n",
        "\n",
        "\n",
        "X_train, X_test, y_train, y_test = train_test_split(data_set, label, test_size=0.3, random_state=0)\n",
        "X_train=X_train.reshape(-1,28,28,1)\n",
        "X_test=X_test.reshape(-1,28,28,1)\n",
        "y_train = to_categorical(y_train,2)\n",
        "y_test = to_categorical(y_test,2)\n",
        "\n",
        "model = Sequential()\n",
        "model.add(Conv2D(32, kernel_size=(3, 3),activation='relu',input_shape=(28,28,1)))\n",
        "model.add(Conv2D(64, (3, 3), activation='relu'))\n",
        "model.add(MaxPooling2D(pool_size=(2, 2)))\n",
        "model.add(Dropout(0.25))\n",
        "model.add(Flatten())\n",
        "model.add(Dense(128, activation='relu'))\n",
        "model.add(Dropout(0.5))\n",
        "model.add(Dense(2, activation='softmax'))\n",
        "model.compile(optimizer='adam', loss='categorical_crossentropy', metrics=['accuracy'])\n",
        "model.fit(X_train, y_train, validation_data=(X_test, y_test), epochs=3)\n",
        "fh=open(\"drive/My Drive/Colab/CNNmodel.pkl\",\"wb\")\n",
        "pickle.dump(model,fh)\n",
        "fh.close()"
      ],
      "execution_count": null,
      "outputs": []
    },
    {
      "cell_type": "code",
      "metadata": {
        "id": "TFFnLSp2fqEC"
      },
      "source": [
        "import cv2\n",
        "\n",
        "fh=open(\"drive/My Drive/Colab/CNNmodel.pkl\",\"rb\")\n",
        "model=pickle.load(fh)\n",
        "img=Image.open(\"drive/My Drive/Colab/NegativeExamplesResized/f00015.png\")\n",
        "img=img.resize((28,28))\n",
        "img.save(\"drive/My Drive/Colab/1.jpg\")\n",
        "img1=cv2.imread(\"drive/My Drive/Colab/1.jpg\",0)\n",
        "img1=img1.reshape(-1,28,28,1)\n",
        "l=model.predict(img1)\n",
        "print(l)"
      ],
      "execution_count": null,
      "outputs": []
    },
    {
      "cell_type": "code",
      "metadata": {
        "id": "LTv0-CJ22bQ-"
      },
      "source": [
        "from keras.utils import to_categorical\n",
        "label=[0,1,0,1,0]\n",
        "y_train = to_categorical(label,2)\n",
        "print(y_train)"
      ],
      "execution_count": null,
      "outputs": []
    }
  ]
}